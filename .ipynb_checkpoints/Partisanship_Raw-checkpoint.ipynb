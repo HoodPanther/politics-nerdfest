{
 "cells": [
  {
   "cell_type": "code",
   "execution_count": 2,
   "metadata": {
    "collapsed": false,
    "deletable": true,
    "editable": true
   },
   "outputs": [],
   "source": [
    "import pandas as pd \n",
    "import numpy as np \n",
    "import matplotlib.pyplot as plt \n",
    "\n",
    "ticket_splitting_df = pd.read_csv('data/ticket_splitting.csv', index_col=0)\n",
    "\n",
    "# for year in ticket_splitting_df.index.values: \n",
    "#     plt.scatter(year, ticket_splitting_df[year]['NumSplitResult'])"
   ]
  },
  {
   "cell_type": "markdown",
   "metadata": {
    "collapsed": true,
    "deletable": true,
    "editable": true
   },
   "source": [
    "## Ideological Data"
   ]
  },
  {
   "cell_type": "code",
   "execution_count": 34,
   "metadata": {
    "collapsed": false
   },
   "outputs": [
    {
     "data": {
      "image/png": "[encoded data removed]",
      "text/plain": [
       "<matplotlib.figure.Figure at 0x106a6bdd8>"
      ]
     },
     "metadata": {},
     "output_type": "display_data"
    }
   ],
   "source": [
    "#https://www.brookings.edu/wp-content/uploads/2017/01/vitalstats_ch8_tbl7.pdf\n",
    "#measures are the average ideological positions \n",
    "senate_ideology_df = pd.read_csv('data/ideological_positions_senate_committees.csv', index_col=1)\n",
    "house_ideology_df = pd.read_csv('data/ideological_positions_house_committees.csv', index_col=1)\n",
    "\n",
    "senate_chamber_avg = senate_ideology_df.loc[senate_ideology_df['Committee'] == 'Chamber average']\n",
    "\n",
    "senate_dems_avg = senate_chamber_avg.loc[senate_chamber_avg['Party'] == 'Democrats']\n",
    "senate_repubs_avg = senate_chamber_avg.loc[senate_chamber_avg['Party'] == 'Republicans']\n",
    "for year, member in senate_dems_avg.iterrows(): \n",
    "    plt.scatter(int(year), float(member['Position']), color='blue')\n",
    "for year, member in senate_repubs_avg.iterrows(): \n",
    "    plt.scatter(int(year), float(member['Position']), color='red')\n",
    "plt.show()"
   ]
  },
  {
   "cell_type": "code",
   "execution_count": null,
   "metadata": {
    "collapsed": true
   },
   "outputs": [],
   "source": []
  }
 ],
 "metadata": {
  "kernelspec": {
   "display_name": "Python [conda root]",
   "language": "python",
   "name": "conda-root-py"
  },
  "language_info": {
   "codemirror_mode": {
    "name": "ipython",
    "version": 3
   },
   "file_extension": ".py",
   "mimetype": "text/x-python",
   "name": "python",
   "nbconvert_exporter": "python",
   "pygments_lexer": "ipython3",
   "version": "3.6.0"
  }
 },
 "nbformat": 4,
 "nbformat_minor": 2
}
